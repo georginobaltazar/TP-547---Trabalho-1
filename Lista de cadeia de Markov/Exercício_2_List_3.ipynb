{
  "nbformat": 4,
  "nbformat_minor": 0,
  "metadata": {
    "colab": {
      "provenance": [],
      "authorship_tag": "ABX9TyN8qNbj7ZIAvVzduSnnhR4U",
      "include_colab_link": true
    },
    "kernelspec": {
      "name": "python3",
      "display_name": "Python 3"
    },
    "language_info": {
      "name": "python"
    }
  },
  "cells": [
    {
      "cell_type": "markdown",
      "metadata": {
        "id": "view-in-github",
        "colab_type": "text"
      },
      "source": [
        "<a href=\"https://colab.research.google.com/github/georginobaltazar/TP-547---Trabalhos/blob/main/Lista%20de%20cadeia%20de%20Markov/Exerc%C3%ADcio_2_List_3.ipynb\" target=\"_parent\"><img src=\"https://colab.research.google.com/assets/colab-badge.svg\" alt=\"Open In Colab\"/></a>"
      ]
    },
    {
      "cell_type": "code",
      "source": [
        "import numpy as np\n",
        "from numpy.linalg import matrix_power\n",
        "import matplotlib.pyplot as plt\n",
        "\n",
        "# Definindo a matriz de transição para o problema da mosca na caixa\n",
        "probabilidades_transicao = [\n",
        "    [1, 0, 0, 0],  # Estado 0 (aranha, absorvente)\n",
        "    [0.3, 0.4, 0.3, 0],  # Estado 1\n",
        "    [0, 0.3, 0.4, 0.3],  # Estado 2\n",
        "    [0, 0, 0, 1]   # Estado 3 (aranha, absorvente)\n",
        "]\n",
        "\n",
        "########## Análise Simulada ##########\n",
        "n = 100000\n",
        "Value1 = np.zeros(n, int)\n",
        "\n",
        "for j in range(n):\n",
        "    valor_inicial = 1  # Começa no estado 1\n",
        "    chain_length = 4  # Vamos analisar até o terceiro minuto (3 passos)\n",
        "    chain = np.zeros(chain_length, int)\n",
        "    chain[0] = valor_inicial\n",
        "    for i in range(1, chain_length):\n",
        "        Linha_atual = probabilidades_transicao[chain[i - 1]]\n",
        "        acumulada = np.cumsum(Linha_atual)\n",
        "        r = np.random.uniform(0, 1)\n",
        "        chain[i] = np.argmax(acumulada > r)\n",
        "    Value1[j] = chain[3]\n",
        "\n",
        "prob_cair_teia_simulado = np.sum(Value1 == 0) / n + np.sum(Value1 == 3) / n\n",
        "\n",
        "print(\"Resultados Simulados\")\n",
        "print(f\"A probabilidade de a mosca cair em uma teia no terceiro minuto (Evento simulado) é {prob_cair_teia_simulado}\")\n",
        "\n",
        "##################### Análise Analítica ##############################\n",
        "P = np.array(probabilidades_transicao)\n",
        "P3 = matrix_power(P, 3)\n",
        "\n",
        "prob_cair_teia_analitico = P3[1, 0] + P3[1, 3]\n",
        "\n",
        "print(\"Resultados Analíticos\")\n",
        "print(f\"A probabilidade de a mosca cair em uma teia no terceiro minuto (Evento analítico) é {prob_cair_teia_analitico}\")\n",
        "\n",
        "##################### Número Médio de Passos para a Absorção ##############################\n",
        "# Submatriz Q e R\n",
        "Q = P[1:3, 1:3]\n",
        "R = P[1:3, [0, 3]]\n",
        "\n",
        "# Matriz identidade I\n",
        "I = np.eye(Q.shape[0])\n",
        "\n",
        "# Matriz fundamental N\n",
        "N = np.linalg.inv(I - Q)\n",
        "\n",
        "# Número médio de passos até a absorção\n",
        "mean_steps = N.sum(axis=1)\n",
        "\n",
        "print(\"Número Médio de Passos para a Absorção\")\n",
        "print(f\"A partir do estado 1: {mean_steps[0]}\")\n",
        "print(f\"A partir do estado 2: {mean_steps[1]}\")\n",
        "\n",
        "##################### Probabilidade de Ser Absorvido ##############################\n",
        "# Matriz de absorção B\n",
        "B = np.dot(N, R)\n",
        "\n",
        "print(\"Probabilidade de Ser Absorvido Associada a Cada Estado\")\n",
        "print(f\"A partir do estado 1: {B[0]}\")\n",
        "print(f\"A partir do estado 2: {B[1]}\")\n",
        "\n",
        "##################### Plot ##############################\n",
        "valor_inicial = 1  # Começa no estado 1\n",
        "chain_length = 30\n",
        "chain = np.zeros(chain_length, int)\n",
        "chain[0] = valor_inicial\n",
        "for i in range(1, chain_length):\n",
        "    Linha_atual = probabilidades_transicao[chain[i - 1]]\n",
        "    acumulada = np.cumsum(Linha_atual)\n",
        "    r = np.random.uniform(0, 1)\n",
        "    chain[i] = np.argmax(acumulada > r)\n",
        "\n",
        "i = np.arange(chain_length)\n",
        "plt.plot(i, chain, 'o-')\n",
        "plt.xlabel('Número de Passos')\n",
        "plt.ylabel('Estado de Transição')\n",
        "plt.title('Caminho da Mosca')\n",
        "plt.yticks([0, 1, 2, 3])\n",
        "plt.show()\n"
      ],
      "metadata": {
        "colab": {
          "base_uri": "https://localhost:8080/",
          "height": 646
        },
        "id": "j4yYd45wyEwx",
        "outputId": "0dabc756-f92a-4ab6-a46d-5300d947df9d"
      },
      "execution_count": 8,
      "outputs": [
        {
          "output_type": "stream",
          "name": "stdout",
          "text": [
            "Resultados Simulados\n",
            "A probabilidade de a mosca cair em uma teia no terceiro minuto (Evento simulado) é 0.65589\n",
            "Resultados Analíticos\n",
            "A probabilidade de a mosca cair em uma teia no terceiro minuto (Evento analítico) é 0.657\n",
            "Número Médio de Passos para a Absorção\n",
            "A partir do estado 1: 3.3333333333333335\n",
            "A partir do estado 2: 3.3333333333333335\n",
            "Probabilidade de Ser Absorvido Associada a Cada Estado\n",
            "A partir do estado 1: [0.66666667 0.33333333]\n",
            "A partir do estado 2: [0.33333333 0.66666667]\n"
          ]
        },
        {
          "output_type": "display_data",
          "data": {
            "text/plain": [
              "<Figure size 640x480 with 1 Axes>"
            ],
            "image/png": "[encoded data removed]"
          },
          "metadata": {}
        }
      ]
    }
  ]
}