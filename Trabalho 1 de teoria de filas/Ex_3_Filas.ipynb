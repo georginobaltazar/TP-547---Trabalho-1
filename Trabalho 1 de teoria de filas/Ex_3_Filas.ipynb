{
  "nbformat": 4,
  "nbformat_minor": 0,
  "metadata": {
    "colab": {
      "provenance": [],
      "authorship_tag": "ABX9TyPHtPap0OW6mDnVvNAucaif",
      "include_colab_link": true
    },
    "kernelspec": {
      "name": "python3",
      "display_name": "Python 3"
    },
    "language_info": {
      "name": "python"
    }
  },
  "cells": [
    {
      "cell_type": "markdown",
      "metadata": {
        "id": "view-in-github",
        "colab_type": "text"
      },
      "source": [
        "<a href=\"https://colab.research.google.com/github/georginobaltazar/TP-547---Trabalhos/blob/main/Trabalho%201%20de%20teoria%20de%20filas/Ex_3_Filas.ipynb\" target=\"_parent\"><img src=\"https://colab.research.google.com/assets/colab-badge.svg\" alt=\"Open In Colab\"/></a>"
      ]
    },
    {
      "cell_type": "markdown",
      "source": [
        "## Exercício #3\n",
        "\n",
        " Um comutador de pacotes recebe em média 200 pacotes/segundo, cada um com um comprimento médio de 128 bytes. O comutador possui uma única linha de saída com capacidade de 256 kbps. Considere um buffer com {1,5,10,15} posições na fila, qual a probabilidade de bloqueio, número médio de elementos e tempo médio no sistema?"
      ],
      "metadata": {
        "id": "FVrbkhjG-jTO"
      }
    },
    {
      "cell_type": "code",
      "source": [
        "import numpy as np\n",
        "\n",
        "def simulacao_fila(tamanho_buffer):\n",
        "    # Parâmetros do sistema\n",
        "    Lambda = 200  # Taxa de chegada (pacotes/segundo)\n",
        "    mu = 256000 / (128 * 8)  # Taxa de serviço (pacotes/segundo)\n",
        "\n",
        "    # Variáveis de estado\n",
        "    elemento_fila = 0  # Número de elementos na fila\n",
        "    elemento_servidor = 1  # Número de elementos no serviço\n",
        "    K = 0  # Contador de partidas\n",
        "    t = 0  # Tempo inicial\n",
        "    tc = t + np.random.exponential(1 / Lambda)  # Tempo de chegada inicial\n",
        "    tp = t + np.random.exponential(1 / mu)  # Tempo de partida inicial\n",
        "    t = min(tc, tp)\n",
        "\n",
        "    # Listas para armazenar tempos\n",
        "    Tempo_chegada = [0]\n",
        "    Tempo_partida = []\n",
        "    Tq = []  # Tempo médio que um elemento gasta na fila\n",
        "\n",
        "    # Variáveis de controle\n",
        "    Cont = tamanho_buffer  # Tamanho do buffer\n",
        "    Block = 0  # Contador de bloqueios\n",
        "    n = 0  # Número de pacotes que chegam\n",
        "\n",
        "    # Loop de simulação\n",
        "    while K < 100000:\n",
        "        if tc < tp:  # Ocorre uma chegada\n",
        "            n += 1\n",
        "            tc = t + np.random.exponential(1 / Lambda)  # Novo tempo de chegada\n",
        "\n",
        "            if elemento_servidor == 1:  # Servidor ocupado\n",
        "                if elemento_fila == Cont:\n",
        "                    Block += 1\n",
        "                else:\n",
        "                    Tempo_chegada.append(t)  # Armazenar tempo de chegada\n",
        "                    elemento_fila += 1  # Adiciona elemento na fila\n",
        "            else:  # Servidor desocupado\n",
        "                elemento_servidor = 1  # Ocupa o servidor\n",
        "                Tempo_chegada.append(t)  # Armazenar tempo de chegada\n",
        "                tp = t + np.random.exponential(1 / mu)  # Novo tempo de partida\n",
        "\n",
        "        else:  # Ocorre uma partida\n",
        "            K += 1\n",
        "            Tempo_partida.append(t)  # Armazenar tempo de partida\n",
        "            Tq.append(Tempo_partida[K-1] - Tempo_chegada[K-1])  # Calcula o tempo no sistema\n",
        "\n",
        "            if elemento_fila > 0:\n",
        "                elemento_fila -= 1  # Remove elemento da fila\n",
        "                tp = t + np.random.exponential(1 / mu)  # Novo tempo de partida\n",
        "                elemento_servidor = 1  # Ocupa o servidor\n",
        "            else:\n",
        "                elemento_servidor = 0\n",
        "                tp = np.inf\n",
        "\n",
        "        t = min(tc, tp)\n",
        "\n",
        "    Pb = Block / n\n",
        "    Etq = np.mean(Tq)\n",
        "    Eq = Lambda * Etq * (1 - Pb)\n",
        "\n",
        "    return Pb, Etq, Eq\n",
        "\n",
        "# Simulações para diferentes tamanhos de buffer\n",
        "resultado_1 = simulacao_fila(1)\n",
        "resultado_5 = simulacao_fila(5)\n",
        "resultado_10 = simulacao_fila(10)\n",
        "resultado_15 = simulacao_fila(15)\n",
        "\n",
        "# Resultados\n",
        "print(\"Calculo das perguntas\")\n",
        "print(\"A probabilidade de bloqueio para um tamanho de buffer = 1 é: \", resultado_1[0])\n",
        "print(\"O número médio de elementos para um tamanho de buffer = 1 é: \", resultado_1[2])\n",
        "print(\"O tempo médio no sistema para um tamanho de buffer = 1 é: \", resultado_1[1])\n",
        "\n",
        "print(\"A probabilidade de bloqueio para um tamanho de buffer = 5 é: \", resultado_5[0])\n",
        "print(\"O número médio de elementos para um tamanho de buffer = 5 é: \", resultado_5[2])\n",
        "print(\"O tempo médio no sistema para um tamanho de buffer = 5 é: \", resultado_5[1])\n",
        "\n",
        "print(\"A probabilidade de bloqueio para um tamanho de buffer = 10 é: \", resultado_10[0])\n",
        "print(\"O número médio de elementos para um tamanho de buffer = 10 é: \", resultado_10[2])\n",
        "print(\"O tempo médio no sistema para um tamanho de buffer = 10 é: \", resultado_10[1])\n",
        "\n",
        "print(\"A probabilidade de bloqueio para um tamanho de buffer = 15 é: \", resultado_15[0])\n",
        "print(\"O número médio de elementos para um tamanho de buffer = 15 é: \", resultado_15[2])\n",
        "print(\"O tempo médio no sistema para um tamanho de buffer = 15 é: \", resultado_15[1])\n"
      ],
      "metadata": {
        "colab": {
          "base_uri": "https://localhost:8080/"
        },
        "id": "tjSJ3IszyOnP",
        "outputId": "427fe884-d6a0-46fb-9a1a-73056401ba31"
      },
      "execution_count": 4,
      "outputs": [
        {
          "output_type": "stream",
          "name": "stdout",
          "text": [
            "Calculo das perguntas\n",
            "A probabilidade de bloqueio para um tamanho de buffer = 1 é:  0.2639203956129257\n",
            "O número médio de elementos para um tamanho de buffer = 1 é:  0.8508568868192228\n",
            "O tempo médio no sistema para um tamanho de buffer = 1 é:  0.005779652647268513\n",
            "A probabilidade de bloqueio para um tamanho de buffer = 5 é:  0.06457647729108736\n",
            "O número médio de elementos para um tamanho de buffer = 5 é:  2.1447353712290083\n",
            "O tempo médio no sistema para um tamanho de buffer = 5 é:  0.011463980321010231\n",
            "A probabilidade de bloqueio para um tamanho de buffer = 10 é:  0.019765276205922454\n",
            "O número médio de elementos para um tamanho de buffer = 10 é:  3.1264118060560064\n",
            "O tempo médio no sistema para um tamanho de buffer = 10 é:  0.015947261049654403\n",
            "A probabilidade de bloqueio para um tamanho de buffer = 15 é:  0.006026981358826772\n",
            "O número médio de elementos para um tamanho de buffer = 15 é:  3.5914339107178415\n",
            "O tempo médio no sistema para um tamanho de buffer = 15 é:  0.018066053320177487\n"
          ]
        }
      ]
    }
  ]
}