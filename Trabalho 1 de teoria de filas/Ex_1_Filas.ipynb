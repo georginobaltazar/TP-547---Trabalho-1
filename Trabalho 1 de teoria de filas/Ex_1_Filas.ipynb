{
  "nbformat": 4,
  "nbformat_minor": 0,
  "metadata": {
    "colab": {
      "provenance": [],
      "authorship_tag": "ABX9TyOddQFISdFdlM2rlfD9fY7Z",
      "include_colab_link": true
    },
    "kernelspec": {
      "name": "python3",
      "display_name": "Python 3"
    },
    "language_info": {
      "name": "python"
    }
  },
  "cells": [
    {
      "cell_type": "markdown",
      "metadata": {
        "id": "view-in-github",
        "colab_type": "text"
      },
      "source": [
        "<a href=\"https://colab.research.google.com/github/georginobaltazar/TP-547---Trabalhos/blob/main/Trabalho%201%20de%20teoria%20de%20filas/Ex_1_Filas.ipynb\" target=\"_parent\"><img src=\"https://colab.research.google.com/assets/colab-badge.svg\" alt=\"Open In Colab\"/></a>"
      ]
    },
    {
      "cell_type": "markdown",
      "source": [
        "## Exercício #1\n",
        "\n",
        "Carros entram em uma fila de pedágio de acordo com um processo de Poisson de taxa 3 carros a cada cinco minutos, o tempo de atendimento segue uma variável exponencial de média 1/μ = 1 minuto.\n",
        "\n",
        "a) Qual é o tempo médio dos carros no sistema?\n",
        "\n",
        "b) Qual é o número médio de carros na fila?"
      ],
      "metadata": {
        "id": "KZ7Zwjg6ckgF"
      }
    },
    {
      "cell_type": "code",
      "execution_count": 13,
      "metadata": {
        "colab": {
          "base_uri": "https://localhost:8080/"
        },
        "id": "F55Z76tGW2oP",
        "outputId": "618bc5c3-3b32-4627-f18d-8faa2686b141"
      },
      "outputs": [
        {
          "output_type": "stream",
          "name": "stdout",
          "text": [
            "a) O tempo médio dos carros no sistema (minuto) é:  2.5279110350224565\n",
            "b) O número médio dos carros na fila é:  0.9167466210134738\n"
          ]
        }
      ],
      "source": [
        "import numpy as np\n",
        "\n",
        "# Dados\n",
        "taxa_chegada = 3/5\n",
        "taxa_servico = 1\n",
        "num_elementos_fila = 0  # Número de elementos na fila\n",
        "num_elementos_servidor = 1  # Número de elementos no servidor\n",
        "iteracao = 0  # Primeira iteração\n",
        "tempo_atual = 0  # Tempo inicial\n",
        "\n",
        "# Tempo de chegada e partida inicial\n",
        "tempo_chegada = tempo_atual + np.random.exponential(1/taxa_chegada)\n",
        "tempo_partida = tempo_atual + np.random.exponential(1/taxa_servico)\n",
        "tempo_atual = min(tempo_chegada, tempo_partida)\n",
        "\n",
        "tempos_chegada = [0]  # Variável dos tempos de chegadas\n",
        "tempos_partida = []  # Variável dos tempos de partidas\n",
        "tempos_fila = []  # Tempo médio que um elemento gasta na fila\n",
        "\n",
        "while tempo_atual < 10**5:\n",
        "    if tempo_chegada < tempo_partida:  # Ocorre uma chegada\n",
        "        tempos_chegada.append(tempo_atual)  # Armazena o tempo de chegada\n",
        "        tempo_chegada = tempo_atual + np.random.exponential(1/taxa_chegada)  # Gera um novo tempo de chegada e soma com o tempo atual\n",
        "        if num_elementos_servidor == 1:  # Se o servidor está ocupado\n",
        "            num_elementos_fila += 1  # Adiciona o elemento na fila\n",
        "        else:  # Se o servidor está desocupado\n",
        "            num_elementos_servidor = 1  # Ocupa o servidor\n",
        "            tempo_partida = tempo_atual + np.random.exponential(1/taxa_servico)  # Gera novo tempo de partida\n",
        "    else:  # Ocorre uma partida\n",
        "        iteracao += 1\n",
        "        tempos_partida.append(tempo_atual)  # Armazena o tempo da partida\n",
        "        tempos_fila.append(tempos_partida[iteracao-1] - tempos_chegada[iteracao-1])  # Calcula o tempo no sistema\n",
        "        if num_elementos_fila > 0:\n",
        "            num_elementos_fila -= 1  # Decrementa um pacote da fila\n",
        "            tempo_partida = tempo_atual + np.random.exponential(1/taxa_servico)  # Gera um novo tempo de partida\n",
        "            num_elementos_servidor = 1  # Ocupa o servidor\n",
        "        else:\n",
        "            num_elementos_servidor = 0\n",
        "            tempo_partida = np.inf\n",
        "    tempo_atual = min(tempo_chegada, tempo_partida)\n",
        "\n",
        "tempo_medio_servico = 1/taxa_servico\n",
        "tempo_medio_fila = np.mean(tempos_fila)\n",
        "num_medio_fila = taxa_chegada * tempo_medio_fila\n",
        "tempo_medio_espera = tempo_medio_fila - tempo_medio_servico\n",
        "num_medio_espera = taxa_chegada * tempo_medio_espera\n",
        "\n",
        "\n",
        "print(\"a) O tempo médio dos carros no sistema (minuto) é: \", tempo_medio_fila)\n",
        "print(\"b) O número médio dos carros na fila é: \", num_medio_espera)\n"
      ]
    }
  ]
}