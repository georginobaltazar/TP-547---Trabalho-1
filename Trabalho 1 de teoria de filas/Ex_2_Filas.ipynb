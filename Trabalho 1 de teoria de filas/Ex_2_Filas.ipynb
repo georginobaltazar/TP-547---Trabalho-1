{
  "nbformat": 4,
  "nbformat_minor": 0,
  "metadata": {
    "colab": {
      "provenance": [],
      "authorship_tag": "ABX9TyOQvBUhjwL9ecf1fA2bzZBr",
      "include_colab_link": true
    },
    "kernelspec": {
      "name": "python3",
      "display_name": "Python 3"
    },
    "language_info": {
      "name": "python"
    }
  },
  "cells": [
    {
      "cell_type": "markdown",
      "metadata": {
        "id": "view-in-github",
        "colab_type": "text"
      },
      "source": [
        "<a href=\"https://colab.research.google.com/github/georginobaltazar/TP-547---Trabalhos/blob/main/Trabalho%201%20de%20teoria%20de%20filas/Ex_2_Filas.ipynb\" target=\"_parent\"><img src=\"https://colab.research.google.com/assets/colab-badge.svg\" alt=\"Open In Colab\"/></a>"
      ]
    },
    {
      "cell_type": "markdown",
      "source": [
        "## Exercício #2\n",
        "\n",
        "Um comutador de pacotes possui uma linha de saída e recebe, em média, 40 pacotes por segundo. Cada pacote tem, em média, 5.000 bits de comprimento, com distribuição exponencial. A linha de saída do comutador tem taxa de 500 kbps.\n",
        "\n",
        "a) Qual é o tempo médio de permanência de um pacote no comutador (esperando na fila e sendo transmitido)?\n",
        "\n",
        "b) Qual é o tempo médio de espera na fila?"
      ],
      "metadata": {
        "id": "fJGL98Pne26v"
      }
    },
    {
      "cell_type": "code",
      "source": [
        "import numpy as np\n",
        "\n",
        "# Dados\n",
        "taxa_chegada = 40  # Lambda\n",
        "taxa_servico = 500000 / 5000  # Mu\n",
        "num_elementos_fila = 0  # Número de elementos na fila\n",
        "num_elementos_servidor = 1  # Número de elementos no servidor\n",
        "iteracao = 0  # Primeira iteração\n",
        "tempo_atual = 0  # Tempo inicial\n",
        "\n",
        "# Tempo de chegada e partida inicial\n",
        "tempo_chegada = tempo_atual + np.random.exponential(1 / taxa_chegada)  # Tempo de chegada\n",
        "tempo_partida = tempo_atual + np.random.exponential(1 / taxa_servico)  # Tempo de partida\n",
        "tempo_atual = min(tempo_chegada, tempo_partida)\n",
        "\n",
        "tempos_chegada = [0]  # Variável dos tempos de chegadas\n",
        "tempos_partida = []  # Variável dos tempos de partidas\n",
        "tempos_fila = []  # Tempo médio que um elemento gasta na fila\n",
        "\n",
        "while tempo_atual < pow(10, 3):\n",
        "    if tempo_chegada < tempo_partida:  # Ocorre uma chegada\n",
        "        tempos_chegada.append(tempo_atual)  # Armazena o tempo de chegada\n",
        "        tempo_chegada = tempo_atual + np.random.exponential(1 / taxa_chegada)  # Gera um novo tempo de chegada\n",
        "        if num_elementos_servidor == 1:  # Se o servidor está ocupado\n",
        "            num_elementos_fila += 1  # Adiciona o elemento na fila\n",
        "        else:  # Se o servidor está desocupado\n",
        "            num_elementos_servidor = 1  # Ocupa o servidor\n",
        "            tempo_partida = tempo_atual + np.random.exponential(1 / taxa_servico)  # Gera novo tempo de partida\n",
        "    else:  # Ocorre uma partida\n",
        "        iteracao += 1\n",
        "        tempos_partida.append(tempo_atual)  # Armazena o tempo da partida\n",
        "        tempos_fila.append(tempos_partida[iteracao - 1] - tempos_chegada[iteracao - 1])  # Calcula o tempo no sistema\n",
        "        if num_elementos_fila > 0:\n",
        "            num_elementos_fila -= 1  # Decrementa um pacote da fila\n",
        "            tempo_partida = tempo_atual + np.random.exponential(1 / taxa_servico)  # Gera um novo tempo de partida\n",
        "            num_elementos_servidor = 1  # Ocupa o servidor\n",
        "        else:\n",
        "            num_elementos_servidor = 0\n",
        "            tempo_partida = np.inf\n",
        "    tempo_atual = min(tempo_chegada, tempo_partida)\n",
        "\n",
        "E_ts = 1 / taxa_servico\n",
        "E_tq = np.mean(tempos_fila)\n",
        "E_q = taxa_chegada * E_tq\n",
        "E_tw = E_tq - E_ts\n",
        "E_w = taxa_chegada * E_tw\n",
        "\n",
        "\n",
        "print(\"a) O tempo médio de permanência de um pacote no comutador é: \", E_tq)\n",
        "print(\"b) O tempo médio de espera na fila é: \", E_tw)\n"
      ],
      "metadata": {
        "colab": {
          "base_uri": "https://localhost:8080/"
        },
        "id": "oONEpZibegcY",
        "outputId": "4d0b26ab-0bf0-494f-c2d9-ba16f7ba1b9d"
      },
      "execution_count": 4,
      "outputs": [
        {
          "output_type": "stream",
          "name": "stdout",
          "text": [
            "a) O tempo médio de permanência de um pacote no comutador é:  0.01657385742909922\n",
            "b) O tempo médio de espera na fila é:  0.006573857429099219\n"
          ]
        }
      ]
    }
  ]
}