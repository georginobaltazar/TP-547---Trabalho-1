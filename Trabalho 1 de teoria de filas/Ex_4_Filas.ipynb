{
  "nbformat": 4,
  "nbformat_minor": 0,
  "metadata": {
    "colab": {
      "provenance": [],
      "authorship_tag": "ABX9TyNfJwT3COYxzqD9oa+oEB7w",
      "include_colab_link": true
    },
    "kernelspec": {
      "name": "python3",
      "display_name": "Python 3"
    },
    "language_info": {
      "name": "python"
    }
  },
  "cells": [
    {
      "cell_type": "markdown",
      "metadata": {
        "id": "view-in-github",
        "colab_type": "text"
      },
      "source": [
        "<a href=\"https://colab.research.google.com/github/georginobaltazar/TP-547---Trabalhos/blob/main/Trabalho%201%20de%20teoria%20de%20filas/Ex_4_Filas.ipynb\" target=\"_parent\"><img src=\"https://colab.research.google.com/assets/colab-badge.svg\" alt=\"Open In Colab\"/></a>"
      ]
    },
    {
      "cell_type": "markdown",
      "source": [
        "## Exercício #4\n",
        "\n",
        "Um nó de uma rede de computadores possui buffer infinito. A chegada das mensagens é Poissoniana com taxa 1 mensagem/segundo e o tamanho médio das mensagens é igual a 2.000 bits. A capacidade do meio de transmissão é de 10.000 bps. Determine o tempo médio que uma mensagem permanece no nó (espera + serviço) supondo que o comprimento das mensagens:\n",
        "\n",
        "a) é constante.\n",
        "\n",
        "b) tem distribuição exponencial."
      ],
      "metadata": {
        "id": "3jbBtnZX0qXh"
      }
    },
    {
      "cell_type": "code",
      "source": [
        "import numpy as np\n",
        "\n",
        "\n",
        "#Dados\n",
        "Lambda= 1\n",
        "mu =10000/2000\n",
        "rho = Lambda/mu\n",
        "print(\"Utilização do Sistema: \", rho)\n",
        "elemento_Fila = 0 ## Numero de elemento na fila\n",
        "elemento_servidor = 1 ## Numero de elemento no servico\n",
        "K=0  ## Primeira iteracao\n",
        "t=0  ## Tempo inicial\n",
        "tc=t+np.random.exponential((1/Lambda)) ## Tempo de chegada\n",
        "tp=t+(1/mu) ## Tempo de partida\n",
        "t=min(tc,tp)\n",
        "Tempo_chegada =[0]     # variavel dos tempos de chegadas\n",
        "Tempo_partida =[]      # variavel dos tempos de partidas\n",
        "Tq=[]     # tempo no medio que um elemento gasta na fila\n",
        "\n",
        "while t<pow(10,4.4):\n",
        "    if tc<tp:  # Ocorre uma chegada\n",
        "        Tempo_chegada=np.append(Tempo_chegada,t) ## Almacenar o tempo de chegada\n",
        "        tc=t+np.random.exponential((1/Lambda))  #Gerar un novo tempo de chegada e suma com t\n",
        "        if elemento_servidor==1: # Se o servidor estc ocupado\n",
        "            elemento_Fila=elemento_Fila+1  # pongo el elemento en fila\n",
        "        elif elemento_servidor==0: # Se el servidor estc desocupado?\n",
        "            elemento_servidor=1  # Ocupo el servido\n",
        "            tp=t+(1/mu) # Gero nuevo tiempo de partida\n",
        "    elif tc>tp: # Ocorre uma partida\n",
        "        K=K+1\n",
        "        Tempo_partida = np.append(Tempo_partida, t) #armazeno o tempo da partida\n",
        "        Tq = np.append(Tq, (Tempo_partida[K-1]-Tempo_chegada[K-1])) # calculo o tempo no sistema\n",
        "        if elemento_Fila>0:\n",
        "            elemento_Fila=elemento_Fila-1    # Decrementa um  pacote da fila\n",
        "            tp=t+(1/mu) # Gero um novo tempo de partida\n",
        "            elemento_servidor=1  # Ocupar o servidor\n",
        "        elif elemento_Fila==0:\n",
        "            elemento_servidor=0\n",
        "            tp=np.infty\n",
        "    t=min(tc,tp)\n",
        "\n",
        "\n",
        "Etq = np.mean(Tq)\n",
        "\n",
        "print(\" Solução: \")\n",
        "\n",
        "print(\"a) o tempo médio que uma mensagem permanece no nó é: \", Etq )"
      ],
      "metadata": {
        "colab": {
          "base_uri": "https://localhost:8080/"
        },
        "id": "BZz99hWg1ART",
        "outputId": "e6dfc73b-35c7-417d-cf40-592d277c9275"
      },
      "execution_count": 8,
      "outputs": [
        {
          "output_type": "stream",
          "name": "stdout",
          "text": [
            "Utilização do Sistema:  0.2\n",
            " Solução: \n",
            "a) o tempo médio que uma mensagem permanece no nó é:  0.22488093167706516\n"
          ]
        }
      ]
    },
    {
      "cell_type": "markdown",
      "source": [
        "## b) distribuição exponencial."
      ],
      "metadata": {
        "id": "SpH9lLU41t6J"
      }
    },
    {
      "cell_type": "code",
      "source": [
        "import numpy as np\n",
        "\n",
        "\n",
        "#Dados####\n",
        "Lambda= 1\n",
        "mu =10000/2000\n",
        "elemento_Fila = 0 ## Numero de elemento na fila\n",
        "elemento_servidor = 1 ## Numero de elemento no servico\n",
        "K=0  ## Primeira iteracao\n",
        "t=0  ## Tempo inicial\n",
        "tc=t+np.random.exponential((1/Lambda)) ## Tempo de chegada\n",
        "tp=t+np.random.exponential((1/mu)) ## Tempo de partida\n",
        "t=min(tc,tp)\n",
        "Tempo_chegada =[0]     # variavel dos tempos de chegadas\n",
        "Tempo_partida =[]      # variavel dos tempos de partidas\n",
        "Tq=[]     # tempo no medio que um elemento gasta na fila\n",
        "\n",
        "while t<pow(10,4):\n",
        "    if tc<tp:  # Ocorre uma chegada\n",
        "        Tempo_chegada=np.append(Tempo_chegada,t) ## Almacenar o tempo de chegada\n",
        "        tc=t+np.random.exponential((1/Lambda))  #Gerar un novo tempo de chegada e suma com t\n",
        "        if elemento_servidor==1: # Se o servidor estc ocupado\n",
        "            elemento_Fila=elemento_Fila+1  # pongo el elemento en fila\n",
        "        elif elemento_servidor==0: # Se el servidor estc desocupado?\n",
        "            elemento_servidor=1  # Ocupo el servido\n",
        "            tp=t+np.random.exponential((1/mu)) # Gero nuevo tiempo de partida\n",
        "    elif tc>tp: # Ocorre uma partida\n",
        "        K=K+1\n",
        "        Tempo_partida = np.append(Tempo_partida, t) #armazeno o tempo da partida\n",
        "        Tq = np.append(Tq, (Tempo_partida[K-1]-Tempo_chegada[K-1])) # calculo o tempo no sistema\n",
        "        if elemento_Fila>0:\n",
        "            elemento_Fila=elemento_Fila-1    # Decrementa um  pacote da fila\n",
        "            tp=t+np.random.exponential((1/mu)) # Gero um novo tempo de partida\n",
        "            elemento_servidor=1  # Ocupar o servidor\n",
        "        elif elemento_Fila==0:\n",
        "            elemento_servidor=0\n",
        "            tp=np.infty\n",
        "    t=min(tc,tp)\n",
        "\n",
        "Ets=1/mu\n",
        "Etq = np.mean(Tq)\n",
        "\n",
        "print(\" Solução: \")\n",
        "\n",
        "print(\"o tempo médio que uma mensagem permanece no nó é: \", Etq )\n"
      ],
      "metadata": {
        "colab": {
          "base_uri": "https://localhost:8080/"
        },
        "id": "j8n5srCY1xWE",
        "outputId": "2a6da593-405c-4da2-b6b3-3fec5c98b2d6"
      },
      "execution_count": 9,
      "outputs": [
        {
          "output_type": "stream",
          "name": "stdout",
          "text": [
            " Solução: \n",
            "o tempo médio que uma mensagem permanece no nó é:  0.2517089674032048\n"
          ]
        }
      ]
    }
  ]
}