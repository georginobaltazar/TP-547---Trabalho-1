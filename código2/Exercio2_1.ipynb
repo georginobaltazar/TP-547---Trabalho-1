{
  "nbformat": 4,
  "nbformat_minor": 0,
  "metadata": {
    "colab": {
      "provenance": [],
      "gpuType": "T4",
      "authorship_tag": "ABX9TyOHx01k/IVDFrAh+DCHPH0x",
      "include_colab_link": true
    },
    "kernelspec": {
      "name": "python3",
      "display_name": "Python 3"
    },
    "language_info": {
      "name": "python"
    },
    "accelerator": "GPU"
  },
  "cells": [
    {
      "cell_type": "markdown",
      "metadata": {
        "id": "view-in-github",
        "colab_type": "text"
      },
      "source": [
        "<a href=\"https://colab.research.google.com/github/georginobaltazar/TP-547---Trabalhos/blob/main/c%C3%B3digo2/Exercio2_1.ipynb\" target=\"_parent\"><img src=\"https://colab.research.google.com/assets/colab-badge.svg\" alt=\"Open In Colab\"/></a>"
      ]
    },
    {
      "cell_type": "markdown",
      "source": [
        "# Estes programas utilizam o método de Monte Carlo para calcular a probabilidade de obter duas bolas azuis e duas bolas roxas ao tirar 10 bolas aleatoriamente de um chapéu contendo 40 bolas, das quais 10 são vermelhas, 10 são azuis, 10 são amarelas e 10 são roxas. Ele executa uma série de experimentos para estimar a probabilidade com e sem reposição."
      ],
      "metadata": {
        "id": "Vr8MW36ynMRw"
      }
    },
    {
      "cell_type": "code",
      "source": [
        "import numpy as np\n",
        "import random\n",
        "\n",
        "# Número de experimentos\n",
        "N = 100000\n",
        "# Contador para contabilizar o número de vezes que obtemos duas bolas azuis e duas roxas\n",
        "cont = 0\n",
        "\n",
        "for ia in range(N):\n",
        "    # Contadores para bolas vermelhas e azuis\n",
        "    contR = 0\n",
        "    contB = 0\n",
        "\n",
        "    # Criando arrays numpy para representar as bolas de diferentes cores\n",
        "    vermelhas = np.array([])\n",
        "    Blue = np.array([])\n",
        "    amarelas = np.array([])\n",
        "    roxas = np.array([])\n",
        "\n",
        "    # Preenchendo os arrays com bolas de diferentes cores\n",
        "    for ix in range(10):\n",
        "        v = \"V\"\n",
        "        vermelhas = np.append(vermelhas, v)\n",
        "    for iy in range(10):\n",
        "        b = \"B\"\n",
        "        Blue = np.append(Blue, b)\n",
        "    for iz in range(10):\n",
        "        a = \"A\"\n",
        "        amarelas = np.append(amarelas, a)\n",
        "    for it in range(10):\n",
        "        r = \"R\"\n",
        "        roxas = np.append(roxas, r)\n",
        "\n",
        "    # Concatenando todos os arrays de cores para formar o chapéu\n",
        "    chapeu = np.concatenate((vermelhas, Blue, amarelas, roxas))\n",
        "\n",
        "    # Selecionando 10 bolas aleatoriamente do chapéu com reposição\n",
        "    sorteio = random.choices(chapeu, k=10)\n",
        "\n",
        "    # Contando quantas bolas azuis e roxas foram selecionadas\n",
        "    for i in sorteio:\n",
        "        if i == \"B\":\n",
        "            contB += 1\n",
        "        elif i == \"R\":\n",
        "            contR += 1\n",
        "\n",
        "    # Verificando se foram selecionadas duas bolas azuis e duas roxas\n",
        "    if contB == 2 and contR == 2:\n",
        "        cont += 1\n",
        "\n",
        "# Calculando a probabilidade\n",
        "prob = cont / N\n",
        "\n",
        "# Imprimindo o resultado\n",
        "print(\"A probabilidade de obter duas bolas azuis e duas roxas ao tirar 10 bolas com reposição é\", prob)"
      ],
      "metadata": {
        "colab": {
          "base_uri": "https://localhost:8080/"
        },
        "id": "5U-owmGtpotw",
        "outputId": "5f0448e0-6e29-4a47-bd99-f5f0ab1f954c"
      },
      "execution_count": 4,
      "outputs": [
        {
          "output_type": "stream",
          "name": "stdout",
          "text": [
            "A probabilidade de obter duas bolas azuis e duas roxas ao tirar 10 bolas com reposição é 0.07553\n"
          ]
        }
      ]
    },
    {
      "cell_type": "markdown",
      "source": [
        "# Programa que calcula a probabilidade sem reposição"
      ],
      "metadata": {
        "id": "KosSMgizp92o"
      }
    },
    {
      "cell_type": "code",
      "source": [
        "import numpy as np\n",
        "import random\n",
        "\n",
        "N = 100000   # Número de amostras\n",
        "cont = 0     # Contador para calcular a média através do Método de Monte Carlo\n",
        "n_bolas_por_cor = 10   # Quantidade de bolas de cada cor\n",
        "\n",
        "def extrair_subconjunto(chapeu, sorteio):\n",
        "    \"\"\"\n",
        "    Remove as bolas sorteadas do chapéu.\n",
        "    \"\"\"\n",
        "    for i in sorteio:\n",
        "        if i in chapeu:\n",
        "            chapeu = list(chapeu)\n",
        "            chapeu.remove(i)\n",
        "            sorteio = list(sorteio)\n",
        "            sorteio.remove(i)\n",
        "    return chapeu\n",
        "\n",
        "# Loop para realizar os experimentos de Monte Carlo\n",
        "for ia in range(N):\n",
        "    vermelhas = np.array([])   # Espaço para armazenar as bolas vermelhas\n",
        "    azuis = np.array([])       # Espaço para armazenar as bolas azuis\n",
        "    amarelas = np.array([])    # Espaço para armazenar as bolas amarelas\n",
        "    roxas = np.array([])       # Espaço para armazenar as bolas roxas\n",
        "    contR = 0   # Contador de bolas roxas\n",
        "    contB = 0   # Contador de bolas azuis\n",
        "\n",
        "    # Gerando a lista de bolas vermelhas\n",
        "    for ix in range(n_bolas_por_cor):\n",
        "        v = \"V\"\n",
        "        vermelhas = np.append(vermelhas, v)\n",
        "\n",
        "    # Gerando a lista de bolas azuis\n",
        "    for iy in range(n_bolas_por_cor):\n",
        "        b = \"B\"\n",
        "        azuis = np.append(azuis, b)\n",
        "\n",
        "    # Gerando a lista de bolas amarelas\n",
        "    for iz in range(n_bolas_por_cor):\n",
        "        a = \"A\"\n",
        "        amarelas = np.append(amarelas, a)\n",
        "\n",
        "    # Gerando a lista de bolas roxas\n",
        "    for it in range(n_bolas_por_cor):\n",
        "        r = \"R\"\n",
        "        roxas = np.append(roxas, r)\n",
        "\n",
        "    # Colocando todas as bolas em um único vetor\n",
        "    chapeu = np.concatenate((vermelhas, azuis, amarelas, roxas))\n",
        "\n",
        "    # Escolhendo 10 bolas aleatoriamente\n",
        "    sorteio = random.choices(chapeu, k=n_bolas_por_cor)\n",
        "\n",
        "    cont2 = 0   # Contador de número de sucesso por sorteio\n",
        "\n",
        "    # Fazendo o sorteio 4 vezes\n",
        "    for iv in range(4):\n",
        "        ii = 0   # Contador de verificação dos 10 elementos sorteados\n",
        "        for i in sorteio:\n",
        "            if i == \"B\":    # Compara se a bola é azul\n",
        "                contB += 1  # Se sim, incrementa em 1\n",
        "            elif i == \"R\":  # Compara se a bola é roxa\n",
        "                contR += 1  # Se sim, incrementa em 1\n",
        "            ii += 1\n",
        "            if ii == n_bolas_por_cor and contB == 2 and contR == 2: # Se as 10 bolas sorteadas contêm 2 azuis e 2 roxas\n",
        "                cont2 += 1  # Se sim, incrementa em 1\n",
        "        if cont2 == 1:   # A primeira vez que cumpre com a condição de 2 azuis e 2 roxas\n",
        "            cont += 1    # Incrementa o contador de sucesso em 1\n",
        "            break        # Sai do loop atual para o próximo evento de Monte Carlo\n",
        "        else:\n",
        "            chapeu = extrair_subconjunto(chapeu, sorteio)   # Elimina elementos (bolas) já sorteados do chapéu\n",
        "            sorteio = []  # Limpa o array sorteio\n",
        "            if iv == 2:   # Se é o último sorteio\n",
        "                sorteio = chapeu  # Sorteio toma o valor de chapeu\n",
        "            elif iv == 3:  # Se o último sorteio já foi sorteado\n",
        "                break       # Sai do loop atual para o próximo evento de Monte Carlo\n",
        "            else:\n",
        "                sorteio = random.sample(chapeu, k=n_bolas_por_cor)  # Realiza um novo sorteio com os novos elementos do chapéu\n",
        "\n",
        "prob = cont / N   # Cálculo da Probabilidade\n",
        "print(\"A probabilidade de obter duas bolas azuis e duas roxas ao tirar 10 bolas sem reposição é\", prob)\n"
      ],
      "metadata": {
        "colab": {
          "base_uri": "https://localhost:8080/"
        },
        "id": "WxduFXBNnV-8",
        "outputId": "eae232cf-80a5-40bc-dee5-f838322880f1"
      },
      "execution_count": 3,
      "outputs": [
        {
          "output_type": "stream",
          "name": "stdout",
          "text": [
            "A probabilidade de obter duas bolas azuis e duas roxas ao tirar 10 bolas sem reposição é 0.07693\n"
          ]
        }
      ]
    }
  ]
}