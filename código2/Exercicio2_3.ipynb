{
  "nbformat": 4,
  "nbformat_minor": 0,
  "metadata": {
    "colab": {
      "provenance": [],
      "authorship_tag": "ABX9TyNahFIzd1rZ33RoKBevbPLn",
      "include_colab_link": true
    },
    "kernelspec": {
      "name": "python3",
      "display_name": "Python 3"
    },
    "language_info": {
      "name": "python"
    }
  },
  "cells": [
    {
      "cell_type": "markdown",
      "metadata": {
        "id": "view-in-github",
        "colab_type": "text"
      },
      "source": [
        "<a href=\"https://colab.research.google.com/github/georginobaltazar/TP-547---Trabalhos/blob/main/c%C3%B3digo2/Exercicio2_3.ipynb\" target=\"_parent\"><img src=\"https://colab.research.google.com/assets/colab-badge.svg\" alt=\"Open In Colab\"/></a>"
      ]
    },
    {
      "cell_type": "markdown",
      "source": [
        "# Exercício 2.3\n",
        "Este programa simula um jogo de dados no qual o jogador paga 1 real para lançar quatro dados. Se a soma dos números nos dados for inferior a 9, o jogador recebe de volta r reais (nesse caso, r = 10). Caso contrário, o jogador perde o investimento de 1 real. O programa realiza a simulação desse jogo um grande número de vezes (definido pela variável N) para analisar os ganhos e perdas médios a longo prazo, além de calcular as probabilidades de ganhar ou perder em cada jogo."
      ],
      "metadata": {
        "id": "NAO_1oud6oV_"
      }
    },
    {
      "cell_type": "code",
      "source": [
        "import numpy as np\n",
        "\n",
        "def jogar_jogo():\n",
        "    \"\"\"\n",
        "    Simula uma jogada do jogo.\n",
        "    Retorna 1 se a soma dos olhos nos dados for inferior a 9 (ganha 10 reais),\n",
        "    senão retorna -1 (perde o investimento de 1 real).\n",
        "    \"\"\"\n",
        "    resultados = np.random.randint(1, 7, size=4)  # Simula o lançamento de 4 dados\n",
        "    soma = np.sum(resultados)  # Calcula a soma dos olhos nos dados\n",
        "    if soma < 9:\n",
        "        return 10, \"ganhou\"  # Se a soma for inferior a 9, ganha 10 reais\n",
        "    else:\n",
        "        return -1, \"perdeu\"  # Senão, perde o investimento de 1 real\n",
        "\n",
        "N = 100000  # Número de jogadas a serem simuladas\n",
        "total_ganho = 0\n",
        "ganhou = 0\n",
        "perdeu = 0\n",
        "\n",
        "for _ in range(N):\n",
        "    ganho, resultado = jogar_jogo()  # Realiza uma jogada\n",
        "    total_ganho += ganho\n",
        "    if resultado == \"ganhou\":\n",
        "        ganhou += 1\n",
        "    else:\n",
        "        perdeu += 1\n",
        "\n",
        "media_ganho = total_ganho / N\n",
        "\n",
        "print(f\"A longo prazo, em média você terá prejuizo de  {media_ganho:.2f} reais por jogo.\")\n",
        "print(f\"Probabilidade de ganhar: {ganhou/N:.2f}\")\n",
        "print(f\"Probabilidade de perder: {perdeu/N:.2f}\")\n"
      ],
      "metadata": {
        "colab": {
          "base_uri": "https://localhost:8080/"
        },
        "id": "fQ9H1G8RzJTy",
        "outputId": "3d292ecc-9b27-476f-fa8e-5f00c3edf975"
      },
      "execution_count": 15,
      "outputs": [
        {
          "output_type": "stream",
          "name": "stdout",
          "text": [
            "A longo prazo, em média você terá prejuizo de  -0.42 reais por jogo.\n",
            "Probabilidade de ganhar: 0.05\n",
            "Probabilidade de perder: 0.95\n"
          ]
        }
      ]
    },
    {
      "cell_type": "markdown",
      "source": [],
      "metadata": {
        "id": "rdY1bT0D6HyK"
      }
    }
  ]
}